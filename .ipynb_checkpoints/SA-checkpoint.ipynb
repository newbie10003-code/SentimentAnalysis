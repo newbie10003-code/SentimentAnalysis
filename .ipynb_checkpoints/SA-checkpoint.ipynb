{
 "cells": [
  {
   "cell_type": "markdown",
   "id": "14775bfd",
   "metadata": {},
   "source": [
    "# 1. Imports"
   ]
  },
  {
   "cell_type": "code",
   "execution_count": 39,
   "id": "25799ab0",
   "metadata": {},
   "outputs": [],
   "source": [
    "import nltk\n",
    "from nltk.corpus import stopwords\n",
    "import pandas as pd\n",
    "import numpy as np\n",
    "import seaborn as sns\n",
    "import matplotlib.pyplot as plt\n",
    "import re\n",
    "import pickle\n",
    "from wordcloud import wordcloud\n",
    "import string\n",
    "from sklearn.model_selection import train_test_split\n",
    "from sklearn.feature_extraction.text import TfidfVectorizer, CountVectorizer\n",
    "from sklearn.metrics import classification_report, confusion_matrix\n",
    "from sklearn.linear_model import LogisticRegression\n",
    "from sklearn.neural_network import MLPClassifier\n",
    "from sklearn.neighbors import KNeighborsClassifier"
   ]
  },
  {
   "cell_type": "markdown",
   "id": "a3ff0f9a",
   "metadata": {},
   "source": [
    "# 2. Loading the dataset"
   ]
  },
  {
   "cell_type": "code",
   "execution_count": 2,
   "id": "303e57b5",
   "metadata": {},
   "outputs": [],
   "source": [
    "data = pd.read_csv('training.1600000.processed.noemoticon.csv', encoding='ISO-8859-1', names = 'Sentiment IDs Date Flag User Text'.split())"
   ]
  },
  {
   "cell_type": "code",
   "execution_count": 3,
   "id": "eadb4972",
   "metadata": {},
   "outputs": [],
   "source": [
    "data = data[['Sentiment', 'Text']]"
   ]
  },
  {
   "cell_type": "code",
   "execution_count": 4,
   "id": "9dab9c07",
   "metadata": {},
   "outputs": [
    {
     "data": {
      "text/html": [
       "<div>\n",
       "<style scoped>\n",
       "    .dataframe tbody tr th:only-of-type {\n",
       "        vertical-align: middle;\n",
       "    }\n",
       "\n",
       "    .dataframe tbody tr th {\n",
       "        vertical-align: top;\n",
       "    }\n",
       "\n",
       "    .dataframe thead th {\n",
       "        text-align: right;\n",
       "    }\n",
       "</style>\n",
       "<table border=\"1\" class=\"dataframe\">\n",
       "  <thead>\n",
       "    <tr style=\"text-align: right;\">\n",
       "      <th></th>\n",
       "      <th>Sentiment</th>\n",
       "      <th>Text</th>\n",
       "    </tr>\n",
       "  </thead>\n",
       "  <tbody>\n",
       "    <tr>\n",
       "      <th>0</th>\n",
       "      <td>0</td>\n",
       "      <td>@switchfoot http://twitpic.com/2y1zl - Awww, t...</td>\n",
       "    </tr>\n",
       "    <tr>\n",
       "      <th>1</th>\n",
       "      <td>0</td>\n",
       "      <td>is upset that he can't update his Facebook by ...</td>\n",
       "    </tr>\n",
       "    <tr>\n",
       "      <th>2</th>\n",
       "      <td>0</td>\n",
       "      <td>@Kenichan I dived many times for the ball. Man...</td>\n",
       "    </tr>\n",
       "    <tr>\n",
       "      <th>3</th>\n",
       "      <td>0</td>\n",
       "      <td>my whole body feels itchy and like its on fire</td>\n",
       "    </tr>\n",
       "    <tr>\n",
       "      <th>4</th>\n",
       "      <td>0</td>\n",
       "      <td>@nationwideclass no, it's not behaving at all....</td>\n",
       "    </tr>\n",
       "  </tbody>\n",
       "</table>\n",
       "</div>"
      ],
      "text/plain": [
       "   Sentiment                                               Text\n",
       "0          0  @switchfoot http://twitpic.com/2y1zl - Awww, t...\n",
       "1          0  is upset that he can't update his Facebook by ...\n",
       "2          0  @Kenichan I dived many times for the ball. Man...\n",
       "3          0    my whole body feels itchy and like its on fire \n",
       "4          0  @nationwideclass no, it's not behaving at all...."
      ]
     },
     "execution_count": 4,
     "metadata": {},
     "output_type": "execute_result"
    }
   ],
   "source": [
    "data.head()"
   ]
  },
  {
   "cell_type": "code",
   "execution_count": 5,
   "id": "b77b0ce8",
   "metadata": {},
   "outputs": [],
   "source": [
    "data['Sentiment'].replace(4, 1,inplace=True)"
   ]
  },
  {
   "cell_type": "code",
   "execution_count": 6,
   "id": "b461868e",
   "metadata": {},
   "outputs": [
    {
     "data": {
      "text/plain": [
       "Sentiment    800000\n",
       "Text         800000\n",
       "dtype: int64"
      ]
     },
     "execution_count": 6,
     "metadata": {},
     "output_type": "execute_result"
    }
   ],
   "source": [
    "# Negative Sentiment tweet count\n",
    "data[data['Sentiment'] == 0].count()"
   ]
  },
  {
   "cell_type": "code",
   "execution_count": 7,
   "id": "9f740bf1",
   "metadata": {},
   "outputs": [],
   "source": [
    "text = list(data['Text'])\n",
    "orig_text = text[:]"
   ]
  },
  {
   "cell_type": "code",
   "execution_count": 8,
   "id": "d11e117f",
   "metadata": {},
   "outputs": [],
   "source": [
    "sentiment = list(data['Sentiment'])"
   ]
  },
  {
   "cell_type": "code",
   "execution_count": 9,
   "id": "32518747",
   "metadata": {},
   "outputs": [
    {
     "data": {
      "text/plain": [
       "Sentiment    800000\n",
       "Text         800000\n",
       "dtype: int64"
      ]
     },
     "execution_count": 9,
     "metadata": {},
     "output_type": "execute_result"
    }
   ],
   "source": [
    "# Positive Sentiment tweet count\n",
    "data[data['Sentiment'] == 1].count()"
   ]
  },
  {
   "cell_type": "markdown",
   "id": "e7215404",
   "metadata": {},
   "source": [
    "# 3. EDA"
   ]
  },
  {
   "cell_type": "code",
   "execution_count": 10,
   "id": "72320c58",
   "metadata": {
    "scrolled": false
   },
   "outputs": [
    {
     "data": {
      "text/plain": [
       "<Axes: xlabel='Sentiment'>"
      ]
     },
     "execution_count": 10,
     "metadata": {},
     "output_type": "execute_result"
    },
    {
     "data": {
      "image/png": "[encoded data removed]",
      "text/plain": [
       "<Figure size 640x480 with 1 Axes>"
      ]
     },
     "metadata": {},
     "output_type": "display_data"
    }
   ],
   "source": [
    "data.groupby(\"Sentiment\").count().plot(kind = 'bar')"
   ]
  },
  {
   "cell_type": "markdown",
   "id": "6ce37a63",
   "metadata": {},
   "source": [
    "# 4. Preprocessing Data"
   ]
  },
  {
   "cell_type": "markdown",
   "id": "9b283840",
   "metadata": {},
   "source": [
    "### Steps to be performed:"
   ]
  },
  {
   "cell_type": "markdown",
   "id": "408bb68e",
   "metadata": {},
   "source": [
    "##### Lowering case"
   ]
  },
  {
   "cell_type": "markdown",
   "id": "301d3e19",
   "metadata": {},
   "source": [
    "##### Removing Stopwords"
   ]
  },
  {
   "cell_type": "markdown",
   "id": "bde255f4",
   "metadata": {},
   "source": [
    "##### Removing punctuations"
   ]
  },
  {
   "cell_type": "markdown",
   "id": "2ca75f05",
   "metadata": {},
   "source": [
    "##### Removing hashtags"
   ]
  },
  {
   "cell_type": "markdown",
   "id": "5c6b2c45",
   "metadata": {},
   "source": [
    "##### Removing hyperlinks"
   ]
  },
  {
   "cell_type": "markdown",
   "id": "12631fbb",
   "metadata": {},
   "source": [
    "##### Removing user tags"
   ]
  },
  {
   "cell_type": "markdown",
   "id": "35cb103e",
   "metadata": {},
   "source": [
    "##### Lemmatization"
   ]
  },
  {
   "cell_type": "markdown",
   "id": "f0d2e97a",
   "metadata": {},
   "source": [
    "##### Removing emojis"
   ]
  },
  {
   "cell_type": "code",
   "execution_count": 11,
   "id": "04b8b087",
   "metadata": {},
   "outputs": [],
   "source": [
    "emojis = {':)': 'smile', ':-)': 'smile', ';d': 'wink', ':-E': 'vampire', ':(': 'sad', \n",
    "          ':-(': 'sad', ':-<': 'sad', ':P': 'raspberry', ':O': 'surprised',\n",
    "          ':-@': 'shocked', ':@': 'shocked',':-$': 'confused', ':\\\\': 'annoyed', \n",
    "          ':#': 'mute', ':X': 'mute', ':^)': 'smile', ':-&': 'confused', '$_$': 'greedy',\n",
    "          '@@': 'eyeroll', ':-!': 'confused', ':-D': 'smile', ':-0': 'yell', 'O.o': 'confused',\n",
    "          '<(-_-)>': 'robot', 'd[-_-]b': 'dj', \":'-)\": 'sadsmile', ';)': 'wink', \n",
    "          ';-)': 'wink', 'O:-)': 'angel','O*-)': 'angel','(:-D': 'gossip', '=^.^=': 'cat'}"
   ]
  },
  {
   "cell_type": "code",
   "execution_count": 12,
   "id": "eb569560",
   "metadata": {},
   "outputs": [],
   "source": [
    "from nltk.corpus import stopwords\n",
    "from nltk.stem import WordNetLemmatizer"
   ]
  },
  {
   "cell_type": "code",
   "execution_count": 13,
   "id": "b3477982",
   "metadata": {},
   "outputs": [],
   "source": [
    "urlPattern = r'((https://)[^ ]*|(http://)[^ ]*|( www.)[^ ]*)'\n",
    "userPattern = r'@[^\\s]+'\n",
    "alphaPattern = r'[^A-Za-z0-9]'\n",
    "wnl = WordNetLemmatizer()\n",
    "def processText(text):\n",
    "    processedText = []\n",
    "    for tweet in text:\n",
    "        tweet = str.lower(tweet)\n",
    "        \n",
    "        tweet = re.sub(urlPattern, 'URL', tweet)\n",
    "        \n",
    "        tweet = re.sub(userPattern, 'USER', tweet)\n",
    "        \n",
    "        tweet = re.sub(alphaPattern, ' ', tweet)\n",
    "        \n",
    "        for emoji in emojis.keys():\n",
    "            tweet = tweet.replace(emoji, 'EMOJI' + emojis[emoji])\n",
    "        \n",
    "        newTweet = ''\n",
    "        for word in tweet.split():\n",
    "            if len(word) > 1:\n",
    "                newTweet += wnl.lemmatize(word) + ' '\n",
    "        newTweet.rstrip()\n",
    "        processedText.append(newTweet)\n",
    "    return processedText"
   ]
  },
  {
   "cell_type": "code",
   "execution_count": 14,
   "id": "325c0a83",
   "metadata": {},
   "outputs": [],
   "source": [
    "newTweets_neg = processText(text[:800000])"
   ]
  },
  {
   "cell_type": "code",
   "execution_count": 15,
   "id": "e8edfda3",
   "metadata": {},
   "outputs": [],
   "source": [
    "newTweets_pos = processText(text[800000:])"
   ]
  },
  {
   "cell_type": "markdown",
   "id": "f34a4e7f",
   "metadata": {},
   "source": [
    "# 5. Visualisation through wordcloud"
   ]
  },
  {
   "cell_type": "code",
   "execution_count": 16,
   "id": "1d1a2e1b",
   "metadata": {},
   "outputs": [],
   "source": [
    "# data_neg = \" \".join(newTweets_neg)\n",
    "# wc = wordcloud.WordCloud(max_words=100).generate(data_neg)\n",
    "# plt.imshow(wc)"
   ]
  },
  {
   "cell_type": "code",
   "execution_count": 17,
   "id": "a0fc1e02",
   "metadata": {
    "scrolled": false
   },
   "outputs": [],
   "source": [
    "# data_pos = \" \".join(newTweets_pos)\n",
    "# wc = wordcloud.WordCloud(max_words=100).generate(data_pos)\n",
    "# plt.imshow(wc)"
   ]
  },
  {
   "cell_type": "code",
   "execution_count": 18,
   "id": "7847265c",
   "metadata": {},
   "outputs": [],
   "source": [
    "for i in newTweets_pos:\n",
    "    newTweets_neg.append(i)\n",
    "newTweets = newTweets_neg[:]"
   ]
  },
  {
   "cell_type": "code",
   "execution_count": 19,
   "id": "313afbf1",
   "metadata": {},
   "outputs": [
    {
     "data": {
      "text/plain": [
       "1600000"
      ]
     },
     "execution_count": 19,
     "metadata": {},
     "output_type": "execute_result"
    }
   ],
   "source": [
    "len(newTweets)"
   ]
  },
  {
   "cell_type": "code",
   "execution_count": 20,
   "id": "3a2b46ce",
   "metadata": {
    "scrolled": true
   },
   "outputs": [],
   "source": [
    "# newTweets"
   ]
  },
  {
   "cell_type": "markdown",
   "id": "76ff1125",
   "metadata": {},
   "source": [
    "# Splitting the data and Count Vectoriser"
   ]
  },
  {
   "cell_type": "code",
   "execution_count": 21,
   "id": "60beb62f",
   "metadata": {},
   "outputs": [],
   "source": [
    "# count_vect = CountVectorizer(max_features=50000, ngram_range=(1, 2))\n",
    "# count_vect.fit(x_train)\n",
    "# x_train = count_vect.transform(x_train)\n",
    "# x_test = count_vect.transform(x_test)"
   ]
  },
  {
   "cell_type": "markdown",
   "id": "cf965af3",
   "metadata": {},
   "source": [
    "# 6. Splitting the data and TF-IDF Vectoriser"
   ]
  },
  {
   "cell_type": "code",
   "execution_count": 22,
   "id": "e8155203",
   "metadata": {},
   "outputs": [
    {
     "name": "stdout",
     "output_type": "stream",
     "text": [
      "No. of feature words:  50000\n"
     ]
    }
   ],
   "source": [
    "x_train, x_test, y_train, y_test = train_test_split(newTweets, sentiment, test_size=0.30, random_state=101)\n",
    "tfidf_vect = TfidfVectorizer(ngram_range=(1, 2), max_features=50000)\n",
    "tfidf_vect.fit(x_train)\n",
    "print(\"No. of feature words: \", len(tfidf_vect.get_feature_names_out()))\n",
    "x_train = tfidf_vect.transform(x_train)\n",
    "x_test = tfidf_vect.transform(x_test)"
   ]
  },
  {
   "cell_type": "code",
   "execution_count": 23,
   "id": "23f5f8c1",
   "metadata": {
    "scrolled": false
   },
   "outputs": [],
   "source": [
    "# print(x_train)"
   ]
  },
  {
   "cell_type": "markdown",
   "id": "1a15b083",
   "metadata": {},
   "source": [
    "# 7. Creating a Model"
   ]
  },
  {
   "cell_type": "markdown",
   "id": "8e412735",
   "metadata": {},
   "source": [
    "##### 1. Logistic Regression"
   ]
  },
  {
   "cell_type": "code",
   "execution_count": 24,
   "id": "de43f158",
   "metadata": {},
   "outputs": [],
   "source": [
    "# from sklearn.model_selection import GridSearchCV\n",
    "# parameters = {'max_iter' : [100, 500, 1000, 5000, 10000],\n",
    "#              'n_jobs' : [1, 5, 10],\n",
    "#               'random_state' : [0, 42, None, 101],\n",
    "              \n",
    "#              }\n",
    "# grid_search = GridSearchCV(LogisticRegression(), param_grid=parameters, cv = 5, n_jobs=-1)\n",
    "# grid_search.fit(x_train, y_train)\n",
    "# grid_search.best_params_"
   ]
  },
  {
   "cell_type": "code",
   "execution_count": 25,
   "id": "aa81624b",
   "metadata": {},
   "outputs": [
    {
     "name": "stderr",
     "output_type": "stream",
     "text": [
      "[Parallel(n_jobs=1)]: Using backend SequentialBackend with 1 concurrent workers.\n",
      "[Parallel(n_jobs=1)]: Done   1 out of   1 | elapsed:   42.7s remaining:    0.0s\n",
      "[Parallel(n_jobs=1)]: Done   1 out of   1 | elapsed:   42.7s finished\n"
     ]
    },
    {
     "name": "stdout",
     "output_type": "stream",
     "text": [
      "              precision    recall  f1-score   support\n",
      "\n",
      "           0       0.82      0.81      0.82    239678\n",
      "           1       0.81      0.83      0.82    240322\n",
      "\n",
      "    accuracy                           0.82    480000\n",
      "   macro avg       0.82      0.82      0.82    480000\n",
      "weighted avg       0.82      0.82      0.82    480000\n",
      "\n"
     ]
    }
   ],
   "source": [
    "model2 = LogisticRegression(max_iter = 1000, verbose = 2)\n",
    "model2.fit(x_train, y_train)\n",
    "y_pred2 = model2.predict(x_test)\n",
    "print(classification_report(y_test, y_pred2))"
   ]
  },
  {
   "cell_type": "markdown",
   "id": "563fe996",
   "metadata": {},
   "source": [
    "# 8. Saving the model"
   ]
  },
  {
   "cell_type": "code",
   "execution_count": 27,
   "id": "5b76bbc5",
   "metadata": {},
   "outputs": [],
   "source": [
    "# pickle.dump(model2, open(\"SA LR-Model2.pkl\", \"wb\"))\n",
    "# pickle.dump(tfidf_vect, open(\"Vectoriser2.pkl\", \"wb\"))"
   ]
  },
  {
   "cell_type": "markdown",
   "id": "ce9cc45d",
   "metadata": {},
   "source": [
    "# Making Predictions"
   ]
  },
  {
   "cell_type": "markdown",
   "id": "088056b1",
   "metadata": {},
   "source": [
    "##### Loading the saved model"
   ]
  },
  {
   "cell_type": "code",
   "execution_count": 28,
   "id": "2e8d8e84",
   "metadata": {},
   "outputs": [],
   "source": [
    "saved_model = pickle.load(open('SA LR-Model2.pkl', 'rb'))\n",
    "vectoriser = pickle.load(open(\"Vectoriser2.pkl\", 'rb'))"
   ]
  },
  {
   "cell_type": "code",
   "execution_count": 29,
   "id": "fe000cf9",
   "metadata": {},
   "outputs": [],
   "source": [
    "text = [\"What a mad day i've had\", \n",
    "       'Dont be sarcastic, look at the brighter side',\n",
    "       'Love is a waste of time', \n",
    "       'My heart goes out to him',\n",
    "       'He has a heart condition']\n",
    "text = processText(text)"
   ]
  },
  {
   "cell_type": "code",
   "execution_count": 30,
   "id": "1787f400",
   "metadata": {},
   "outputs": [
    {
     "data": {
      "text/plain": [
       "['what mad day ve had ',\n",
       " 'dont be sarcastic look at the brighter side ',\n",
       " 'love is waste of time ',\n",
       " 'my heart go out to him ',\n",
       " 'he ha heart condition ']"
      ]
     },
     "execution_count": 30,
     "metadata": {},
     "output_type": "execute_result"
    }
   ],
   "source": [
    "text"
   ]
  },
  {
   "cell_type": "code",
   "execution_count": 31,
   "id": "61d94376",
   "metadata": {},
   "outputs": [],
   "source": [
    "text = vectoriser.transform(text)"
   ]
  },
  {
   "cell_type": "code",
   "execution_count": 32,
   "id": "9798f939",
   "metadata": {},
   "outputs": [],
   "source": [
    "# print(text)"
   ]
  },
  {
   "cell_type": "code",
   "execution_count": 33,
   "id": "71b894b5",
   "metadata": {},
   "outputs": [
    {
     "name": "stdout",
     "output_type": "stream",
     "text": [
      "['Negative', 'Positive', 'Negative', 'Negative', 'Negative']\n"
     ]
    }
   ],
   "source": [
    "predictions = saved_model.predict(text)\n",
    "# print(len(predictions))\n",
    "# print(predictions[0])\n",
    "# print(type(predictions))\n",
    "predictions = list(predictions)\n",
    "for i in range(len(predictions)):\n",
    "    if predictions[i] == 1:\n",
    "        predictions[i] = 'Positive'\n",
    "    else:\n",
    "        predictions[i] = 'Negative'\n",
    "print(predictions)"
   ]
  },
  {
   "cell_type": "markdown",
   "id": "1b693610",
   "metadata": {},
   "source": [
    "# Exports"
   ]
  },
  {
   "cell_type": "code",
   "execution_count": 34,
   "id": "600a6a3d",
   "metadata": {},
   "outputs": [],
   "source": [
    "# data_neg = \" \".join(orig_text[:800000])\n",
    "# data_pos = \" \".join(orig_text[800000:])\n",
    "# wc_pos = wordcloud.WordCloud(max_words=100).generate(data_pos)\n",
    "# wc_neg = wordcloud.WordCloud(max_words=100).generate(data_neg)\n",
    "# d = data.groupby(\"Sentiment\").count()\n",
    "# length = [len(w) for w in orig_text]\n",
    "\n",
    "# pickle.dump(length, open(\"Length.pkl\", \"wb\"))\n",
    "# pickle.dump(d, open(\"Sentiment Data.pkl\", \"wb\"))\n",
    "# pickle.dump(wc_pos, open(\"Positive Wordcloud.pkl\", \"wb\"))\n",
    "# pickle.dump(wc_neg, open(\"Negative Wordcloud.pkl\", \"wb\"))\n",
    "# pickle.dump(wnl, open(\"Lemmatizer.pkl\", \"wb\"))"
   ]
  },
  {
   "cell_type": "code",
   "execution_count": 35,
   "id": "7fadaf5b",
   "metadata": {},
   "outputs": [],
   "source": [
    "# plt.imshow(wc_pos)"
   ]
  },
  {
   "cell_type": "code",
   "execution_count": 36,
   "id": "21ce3e1b",
   "metadata": {},
   "outputs": [],
   "source": [
    "# plt.imshow(wc_neg)"
   ]
  },
  {
   "cell_type": "markdown",
   "id": "d54b0a6b",
   "metadata": {},
   "source": []
  },
  {
   "cell_type": "code",
   "execution_count": null,
   "id": "51f0f934",
   "metadata": {},
   "outputs": [],
   "source": []
  },
  {
   "cell_type": "code",
   "execution_count": null,
   "id": "64015fa8",
   "metadata": {},
   "outputs": [],
   "source": []
  },
  {
   "cell_type": "raw",
   "id": "b27facf5",
   "metadata": {},
   "source": []
  },
  {
   "cell_type": "code",
   "execution_count": null,
   "id": "508cd35b",
   "metadata": {},
   "outputs": [],
   "source": []
  },
  {
   "cell_type": "code",
   "execution_count": null,
   "id": "c50e9fbb",
   "metadata": {},
   "outputs": [],
   "source": []
  },
  {
   "cell_type": "code",
   "execution_count": null,
   "id": "dfa252a6",
   "metadata": {},
   "outputs": [],
   "source": []
  },
  {
   "cell_type": "code",
   "execution_count": null,
   "id": "67cccc29",
   "metadata": {},
   "outputs": [],
   "source": []
  },
  {
   "cell_type": "code",
   "execution_count": null,
   "id": "7e785cef",
   "metadata": {},
   "outputs": [],
   "source": []
  },
  {
   "cell_type": "code",
   "execution_count": null,
   "id": "af2a3222",
   "metadata": {},
   "outputs": [],
   "source": []
  },
  {
   "cell_type": "code",
   "execution_count": null,
   "id": "e20a8094",
   "metadata": {},
   "outputs": [],
   "source": []
  },
  {
   "cell_type": "code",
   "execution_count": null,
   "id": "13656b59",
   "metadata": {},
   "outputs": [],
   "source": []
  },
  {
   "cell_type": "code",
   "execution_count": null,
   "id": "e964cf17",
   "metadata": {},
   "outputs": [],
   "source": []
  },
  {
   "cell_type": "code",
   "execution_count": null,
   "id": "d2ce9245",
   "metadata": {},
   "outputs": [],
   "source": []
  },
  {
   "cell_type": "code",
   "execution_count": null,
   "id": "6b4e0a00",
   "metadata": {},
   "outputs": [],
   "source": []
  }
 ],
 "metadata": {
  "kernelspec": {
   "display_name": "Python 3 (ipykernel)",
   "language": "python",
   "name": "python3"
  },
  "language_info": {
   "codemirror_mode": {
    "name": "ipython",
    "version": 3
   },
   "file_extension": ".py",
   "mimetype": "text/x-python",
   "name": "python",
   "nbconvert_exporter": "python",
   "pygments_lexer": "ipython3",
   "version": "3.11.4"
  }
 },
 "nbformat": 4,
 "nbformat_minor": 5
}
